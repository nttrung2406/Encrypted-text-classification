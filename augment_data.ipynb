{
 "cells": [
  {
   "cell_type": "code",
   "execution_count": 1,
   "metadata": {},
   "outputs": [],
   "source": [
    "from collections import Counter\n",
    "import torch\n",
    "import torch.nn as nn\n",
    "import torch.optim as optim\n",
    "import pandas as pd\n",
    "from sklearn.metrics import f1_score\n",
    "from sklearn.preprocessing import LabelEncoder\n",
    "from torch.utils.data import Dataset, DataLoader, TensorDataset\n",
    "from sklearn.cluster import KMeans\n",
    "from sklearn.feature_extraction.text import TfidfVectorizer, CountVectorizer\n",
    "\n",
    "from transformers import (\n",
    "    DistilBertTokenizerFast, DistilBertForSequenceClassification,\n",
    "    RobertaTokenizerFast, RobertaForSequenceClassification,\n",
    "    XLNetTokenizer, XLNetForSequenceClassification,\n",
    "    ElectraTokenizer, ElectraForSequenceClassification,\n",
    "    DebertaTokenizer, DebertaForSequenceClassification\n",
    ")\n",
    "from collections import defaultdict\n",
    "import numpy as np\n",
    "import torch.nn.functional as F\n",
    "import os\n",
    "from sklearn.metrics.pairwise import cosine_similarity\n",
    "from sklearn.preprocessing import normalize\n",
    "from scipy.stats import mode\n",
    "import matplotlib.pyplot as plt\n",
    "from sklearn.model_selection import train_test_split\n",
    "import warnings\n",
    "from sklearn.exceptions import ConvergenceWarning\n",
    "import os\n",
    "warnings.filterwarnings('ignore', category=ConvergenceWarning)"
   ]
  },
  {
   "cell_type": "code",
   "execution_count": null,
   "metadata": {},
   "outputs": [],
   "source": [
    "root = os.getcwd()\n",
    "train_path = os.path.join(root, 'train.csv')\n",
    "test_path = os.path.join(root, 'test.csv')\n",
    "train_df = pd.read_csv(train_path)\n",
    "test_df = pd.read_csv(test_path)"
   ]
  },
  {
   "cell_type": "code",
   "execution_count": 5,
   "metadata": {},
   "outputs": [],
   "source": [
    "similar_tokens = {}\n",
    "with open(\"similar.txt\", \"r\") as file:\n",
    "    for line in file:\n",
    "        tokens = line.strip().split(\" \")\n",
    "        similar_tokens[tokens[0].strip()] = [tokens[1].strip(), tokens[2].strip(), tokens[3].strip()]"
   ]
  },
  {
   "cell_type": "code",
   "execution_count": 8,
   "metadata": {},
   "outputs": [],
   "source": [
    "def contains_token_1(text):\n",
    "    tokens = text.split() if isinstance(text, str) else []\n",
    "    return any(token in similar_tokens for token in tokens)\n",
    "\n",
    "filtered_train_df = train_df[train_df['texts'].apply(contains_token_1)].reset_index(drop=True)\n",
    "\n",
    "def augment_texts_with_similar_tokens(df, similar_tokens, replacement_index):\n",
    "    augmented_texts = []\n",
    "    augmented_labels = []\n",
    "\n",
    "    for text, label in zip(df['texts'], df['labels']):\n",
    "        tokens = text.split()  # Tokenize the text\n",
    "        augmented_tokens = []\n",
    "\n",
    "        for token in tokens:\n",
    "            if token in similar_tokens:\n",
    "                augmented_tokens.append(similar_tokens[token][replacement_index])\n",
    "            else:\n",
    "                augmented_tokens.append(token)  \n",
    "\n",
    "        augmented_text = \" \".join(augmented_tokens)\n",
    "        augmented_texts.append(augmented_text)\n",
    "        augmented_labels.append(label)\n",
    "\n",
    "    return pd.DataFrame({'texts': augmented_texts, 'labels': augmented_labels})\n",
    "\n",
    "df_1 = augment_texts_with_similar_tokens(filtered_train_df, similar_tokens, 0)  # Replace with token-2\n",
    "df_2 = augment_texts_with_similar_tokens(filtered_train_df, similar_tokens, 1)  # Replace with token-3\n",
    "df_3 = augment_texts_with_similar_tokens(filtered_train_df, similar_tokens, 2)  # Replace with token-4"
   ]
  },
  {
   "cell_type": "code",
   "execution_count": 12,
   "metadata": {},
   "outputs": [],
   "source": [
    "augment_df = pd.concat([df_1, df_2, df_3], ignore_index=True)"
   ]
  }
 ],
 "metadata": {
  "kernelspec": {
   "display_name": "Python 3",
   "language": "python",
   "name": "python3"
  },
  "language_info": {
   "codemirror_mode": {
    "name": "ipython",
    "version": 3
   },
   "file_extension": ".py",
   "mimetype": "text/x-python",
   "name": "python",
   "nbconvert_exporter": "python",
   "pygments_lexer": "ipython3",
   "version": "3.9.13"
  }
 },
 "nbformat": 4,
 "nbformat_minor": 2
}
